{
 "cells": [
  {
   "cell_type": "code",
   "execution_count": null,
   "metadata": {},
   "outputs": [],
   "source": [
    "%pip install Jinja2"
   ]
  },
  {
   "cell_type": "code",
   "execution_count": null,
   "metadata": {},
   "outputs": [],
   "source": [
    "from dotenv import load_dotenv\n",
    "\n",
    "load_dotenv('../.env')"
   ]
  },
  {
   "cell_type": "code",
   "execution_count": null,
   "metadata": {},
   "outputs": [],
   "source": [
    "import os\n",
    "from tqdm import tqdm\n",
    "from langchain_qdrant import QdrantVectorStore\n",
    "from qdrant_client import QdrantClient\n",
    "from langchain_aws import BedrockEmbeddings, ChatBedrock\n",
    "from qdrant_client.http.models import Distance, VectorParams\n",
    "from langchain_core.rate_limiters import InMemoryRateLimiter\n",
    "from ragas.llms import LangchainLLMWrapper\n",
    "from ragas.embeddings import LangchainEmbeddingsWrapper\n",
    "from langchain_openai import ChatOpenAI\n",
    "from langchain_openai import OpenAIEmbeddings\n",
    "from langchain_core.prompts import PromptTemplate\n",
    "from langchain_core.messages import BaseMessage"
   ]
  },
  {
   "cell_type": "code",
   "execution_count": null,
   "metadata": {},
   "outputs": [],
   "source": [
    "from time import sleep\n",
    "import random\n",
    "\n",
    "def invoke_llm_with_backoff(llm: ChatBedrock, prompt, max_retries=5):\n",
    "    retries = 0\n",
    "    while retries < max_retries:\n",
    "        try:\n",
    "            return llm.invoke(prompt)\n",
    "        except Exception as exc:\n",
    "            print(exc)\n",
    "            retries += 1\n",
    "            wait_time = random.uniform(2 ** retries, 2 ** retries + 5)  # Exponential backoff\n",
    "            print(f\"Throttling error. Retrying in {wait_time:.2f} seconds...\")\n",
    "            sleep(wait_time)\n",
    "\n",
    "    raise Exception(\"Max retries reached, could not invoke model.\")\n",
    "\n",
    "from datasets import Dataset\n",
    "\n",
    "def pandas_to_ragas(df):\n",
    "    # Ensure all text columns are strings and handle NaN values\n",
    "    text_columns = df.columns\n",
    "    for col in text_columns:\n",
    "        df[col] = df[col].fillna('').astype(str)\n",
    "        \n",
    "    # Convert 'contexts' to a list of lists\n",
    "    df['reference_contexts'] = df['reference_contexts'].fillna('').astype(str).apply(eval)\n",
    "    df['retrieved_contexts'] = df['retrieved_contexts'].fillna('').astype(str).apply(eval)\n",
    "    \n",
    "    # Converting the DataFrame to a dictionary\n",
    "    data_dict = df.to_dict('list')\n",
    "    \n",
    "    # Loading the dictionary as a Hugging Face dataset\n",
    "    ragas_testset = Dataset.from_dict(data_dict)\n",
    "    \n",
    "    return ragas_testset"
   ]
  },
  {
   "cell_type": "code",
   "execution_count": null,
   "metadata": {},
   "outputs": [],
   "source": [
    "rate_limiter = InMemoryRateLimiter(\n",
    "    requests_per_second=0.07,  # <-- Super slow! We can only make a request once every 10 seconds!!\n",
    "    check_every_n_seconds=0.1,  # Wake up every 100 ms to check whether allowed to make a request,\n",
    "    # max_bucket_size=10,  # Controls the maximum burst size.\n",
    ")\n",
    "\n",
    "evaluator_llm = LangchainLLMWrapper(ChatOpenAI(model=\"gpt-4o\"))\n",
    "evaluator_embeddings = LangchainEmbeddingsWrapper(OpenAIEmbeddings())"
   ]
  },
  {
   "cell_type": "code",
   "execution_count": null,
   "metadata": {},
   "outputs": [],
   "source": [
    "embeddings = BedrockEmbeddings(\n",
    "    region_name='us-east-1',\n",
    "    )"
   ]
  },
  {
   "cell_type": "code",
   "execution_count": null,
   "metadata": {},
   "outputs": [],
   "source": [
    "client = QdrantClient(\n",
    "    location=os.environ[\"VECTOR_STORE_URL\"],\n",
    "    api_key=os.environ[\"VECTOR_STORE_API_KEY\"]\n",
    ")\n",
    "\n",
    "vector_store = QdrantVectorStore(\n",
    "    client=client,\n",
    "    collection_name=\"regulamento-semantic\",\n",
    "    embedding=embeddings\n",
    ")"
   ]
  },
  {
   "cell_type": "code",
   "execution_count": null,
   "metadata": {},
   "outputs": [],
   "source": [
    "prompt = \"\"\"\n",
    "Você é um assistente da UFRN responsável por instruir alunos sobre questões acadêmicas do regulamento dos cursos de graduação.\n",
    "Você deve responder a resposta correta baseada na questão e contexto abaixo. Por favor, siga as instruções:\n",
    "\n",
    "1. Pergunta: {pergunta}\n",
    "\n",
    "2. Contexto: {contexto}\n",
    "\n",
    "3. Instruções:\n",
    "    - Analise cuidadosamente a questão e o contexto fornecido.\n",
    "    - Formule uma resposta abrangente e precisa baseada apenas nas informações fornecidas no contexto.\n",
    "    - Certifique-se de que sua resposta aborda diretamente a pergunta.\n",
    "    - Inclua todas as informações relevantes do contexto, mas não adicione nenhum conhecimento externo.\n",
    "    - Se o contexto não contiver informações suficientes para responder completamente à pergunta, declare isso claramente e forneça a melhor resposta parcial possível.\n",
    "    - Use um tom formal e objetivo.\n",
    "    - Responda somente o perguntando, evite apresentar a resposta com palavras ou frases introdutórias como \"Resposta:\".\n",
    "\"\"\"\n",
    "\n",
    "prompt_template = PromptTemplate.from_template(prompt)"
   ]
  },
  {
   "cell_type": "code",
   "execution_count": null,
   "metadata": {},
   "outputs": [],
   "source": [
    "import pandas as pd\n",
    "from tqdm import tqdm\n",
    "from ragas import evaluate\n",
    "from ragas.metrics import (\n",
    "    NonLLMContextRecall,\n",
    "    NonLLMContextPrecisionWithReference,\n",
    "    NoiseSensitivity,\n",
    "    ResponseRelevancy,\n",
    "    Faithfulness,\n",
    ")\n",
    "from time import time\n",
    "\n",
    "models = [\n",
    "    # 'amazon.nova-lite-v1:0',\n",
    "    'amazon.nova-micro-v1:0',\n",
    "    # 'meta.llama3-8b-instruct-v1:0',\n",
    "    # 'mistral.mistral-7b-instruct-v0:2',\n",
    "    # 'mistral.mixtral-8x7b-instruct-v0:1'\n",
    "    ]\n",
    "\n",
    "k_values = [60, 70, 80, 90, 100]\n",
    "\n",
    "# all_result_df = pd.DataFrame([])\n",
    "\n",
    "for model_name in models:\n",
    "    for k in k_values:\n",
    "        llm = ChatBedrock(\n",
    "            model_id=model_name,\n",
    "            temperature=.0,\n",
    "            region='us-east-1',\n",
    "            )\n",
    "\n",
    "        df = pd.read_csv('../data/dataset_potiguana.csv')\n",
    "\n",
    "        retrieved_contexts = []\n",
    "        spent_time = []\n",
    "        responses = []\n",
    "        prompts = []\n",
    "        input_tokens_list = []\n",
    "        output_tokens_list = []\n",
    "        total_tokens_list = []\n",
    "\n",
    "        for _, row in tqdm(df.iterrows()):\n",
    "            # Captura pergunta (linha)\n",
    "            query = row['user_input']\n",
    "\n",
    "            # Pesquisa contextos\n",
    "            context_docs = vector_store.similarity_search(query, k=k)\n",
    "            contexts = [c.page_content for c in context_docs]\n",
    "\n",
    "            # Gera prompt\n",
    "            formatted_contexts = '\\n'.join(contexts)\n",
    "            prompt = prompt_template.format(pergunta=query, contexto=formatted_contexts)\n",
    "\n",
    "            # Pede resposta a LLM e calcula tempo\n",
    "            start = time()\n",
    "            response: BaseMessage = invoke_llm_with_backoff(llm=llm, prompt=prompt)\n",
    "            llm_response_time = time() - start\n",
    "\n",
    "            # Get response metadata\n",
    "            input_tokens = response.usage_metadata['input_tokens']\n",
    "            output_tokens = response.usage_metadata['output_tokens']\n",
    "            total_tokens = response.usage_metadata['total_tokens']\n",
    "            response_content = response.content\n",
    "\n",
    "            input_tokens_list.append(input_tokens)\n",
    "            output_tokens_list.append(output_tokens)\n",
    "            total_tokens_list.append(total_tokens)\n",
    "            retrieved_contexts.append(contexts)\n",
    "            spent_time.append(llm_response_time)\n",
    "            responses.append(response_content)\n",
    "            prompts.append(prompt)\n",
    "\n",
    "        df['retrieved_contexts'] = pd.Series(retrieved_contexts)\n",
    "        df['response'] = pd.Series(responses)\n",
    "        eval_dataset = pandas_to_ragas(df)\n",
    "\n",
    "        metrics = [\n",
    "            NonLLMContextPrecisionWithReference(threshold=0.95),\n",
    "            NonLLMContextRecall(threshold=0.95),\n",
    "            # NoiseSensitivity(llm=evaluator_llm),\n",
    "            ResponseRelevancy(llm=evaluator_llm),\n",
    "            Faithfulness(llm=evaluator_llm),\n",
    "            ]\n",
    "\n",
    "        results = evaluate(dataset=eval_dataset, metrics=metrics)\n",
    "        result_df = results.to_pandas()\n",
    "\n",
    "        result_df['k'] = k\n",
    "        result_df['model'] = model_name\n",
    "        result_df['llm_response_time'] = pd.Series(spent_time)\n",
    "        result_df['prompt'] = pd.Series(prompts)\n",
    "        result_df['input_tokens'] = pd.Series(input_tokens_list)\n",
    "        result_df['output_tokens'] = pd.Series(output_tokens_list)\n",
    "        result_df['total_tokens'] = pd.Series(total_tokens_list)\n",
    "\n",
    "        all_result_df = pd.concat([all_result_df, result_df], ignore_index=True)\n",
    "\n",
    "all_result_df.to_csv('../generation_in_k.csv')"
   ]
  },
  {
   "cell_type": "code",
   "execution_count": null,
   "metadata": {},
   "outputs": [],
   "source": [
    "len(all_result_df)"
   ]
  },
  {
   "cell_type": "code",
   "execution_count": null,
   "metadata": {},
   "outputs": [],
   "source": [
    "len(all_result_df[all_result_df['answer_relevancy'].notna()])"
   ]
  },
  {
   "cell_type": "code",
   "execution_count": null,
   "metadata": {},
   "outputs": [],
   "source": [
    "len(all_result_df[all_result_df['faithfulness'].notna()])"
   ]
  },
  {
   "cell_type": "code",
   "execution_count": null,
   "metadata": {},
   "outputs": [],
   "source": [
    "all_result_df.head(2)"
   ]
  },
  {
   "cell_type": "code",
   "execution_count": null,
   "metadata": {},
   "outputs": [],
   "source": [
    "import matplotlib.pyplot as plt\n",
    "\n",
    "# Calcule a média de NonLLMContextRecall para cada valor de K\n",
    "answer_relevancy = all_result_df.groupby('k')['answer_relevancy'].mean()\n",
    "faithfulness = all_result_df.groupby('k')['faithfulness'].mean()\n",
    "\n",
    "\n",
    "plt.figure(figsize=(10, 6))\n",
    "plt.plot(answer_relevancy.index, answer_relevancy.values, marker='o', linestyle='-', color='b', label='Answer Relevancy')\n",
    "plt.plot(faithfulness.index, faithfulness.values, marker='s', linestyle='--', color='r', label='Faithfulness')\n",
    "plt.title('Mean Context Recall and Precision vs. K', fontsize=16)\n",
    "plt.xlabel('K', fontsize=14)\n",
    "plt.ylabel('Mean Score', fontsize=14)\n",
    "plt.grid(True)\n",
    "plt.legend(fontsize=12)\n",
    "\n",
    "plt.xticks(answer_relevancy.index)  # Mostra todos os valores de K no eixo x\n",
    "plt.show()"
   ]
  },
  {
   "cell_type": "code",
   "execution_count": null,
   "metadata": {},
   "outputs": [],
   "source": [
    "import matplotlib.pyplot as plt\n",
    "\n",
    "# Calcule a média de NonLLMContextRecall para cada valor de K\n",
    "input_tokens = all_result_df.groupby('k')['input_tokens'].mean()\n",
    "llm_response_time = all_result_df.groupby('k')['llm_response_time'].mean()\n",
    "\n",
    "\n",
    "plt.figure(figsize=(10, 6))\n",
    "plt.plot(input_tokens.index, input_tokens.values, marker='o', linestyle='-', color='b', label='Input Tokens')\n",
    "plt.plot(llm_response_time.index, llm_response_time.values, marker='s', linestyle='--', color='r', label='Response Time (s)')\n",
    "# plt.title('Mean Context Recall and Precision vs. K', fontsize=16)\n",
    "plt.xlabel('K', fontsize=14)\n",
    "plt.ylabel('Mean Score', fontsize=14)\n",
    "plt.grid(True)\n",
    "plt.legend(fontsize=12)\n",
    "\n",
    "plt.xticks(input_tokens.index)  # Mostra todos os valores de K no eixo x\n",
    "plt.show()"
   ]
  },
  {
   "cell_type": "code",
   "execution_count": null,
   "metadata": {},
   "outputs": [],
   "source": [
    "# Selecionando as colunas de interesse\n",
    "columns_of_interest = ['input_tokens', 'llm_response_time']\n",
    "\n",
    "# Agrupando por 'model' e calculando a média para as colunas selecionadas\n",
    "average_values = all_result_df.groupby('k')[columns_of_interest].mean().reset_index()\n",
    "\n",
    "# Exibindo a tabela resultante\n",
    "average_values"
   ]
  },
  {
   "cell_type": "code",
   "execution_count": null,
   "metadata": {},
   "outputs": [],
   "source": [
    "import matplotlib.pyplot as plt\n",
    "\n",
    "# Calcule a média de NonLLMContextRecall para cada valor de K\n",
    "input_tokens = all_result_df.groupby('k')['llm_response_time'].mean()\n",
    "# faithfulness = all_result_df.groupby('k')['faithfulness'].mean()\n",
    "\n",
    "\n",
    "plt.figure(figsize=(10, 6))\n",
    "plt.plot(input_tokens.index, input_tokens.values, marker='o', linestyle='-', color='b', label='Input Tokens')\n",
    "# plt.plot(faithfulness.index, faithfulness.values, marker='s', linestyle='--', color='r', label='Faithfulness')\n",
    "# plt.title('Mean Context Recall and Precision vs. K', fontsize=16)\n",
    "plt.xlabel('K', fontsize=14)\n",
    "plt.ylabel('Mean Score', fontsize=14)\n",
    "plt.grid(True)\n",
    "plt.legend(fontsize=12)\n",
    "\n",
    "plt.xticks(answer_relevancy.index)  # Mostra todos os valores de K no eixo x\n",
    "plt.show()"
   ]
  },
  {
   "cell_type": "code",
   "execution_count": null,
   "metadata": {},
   "outputs": [],
   "source": [
    "all_result_df['model'].unique()"
   ]
  },
  {
   "cell_type": "code",
   "execution_count": null,
   "metadata": {},
   "outputs": [],
   "source": [
    "all_result_df.head(2)"
   ]
  },
  {
   "cell_type": "code",
   "execution_count": null,
   "metadata": {},
   "outputs": [],
   "source": [
    "len(all_result_df)"
   ]
  },
  {
   "cell_type": "code",
   "execution_count": null,
   "metadata": {},
   "outputs": [],
   "source": [
    "len(all_result_df[all_result_df['faithfulness'].notna()])"
   ]
  },
  {
   "cell_type": "code",
   "execution_count": null,
   "metadata": {},
   "outputs": [],
   "source": [
    "len(all_result_df[all_result_df['answer_relevancy'].notna()])"
   ]
  },
  {
   "cell_type": "code",
   "execution_count": null,
   "metadata": {},
   "outputs": [],
   "source": [
    "len(all_result_df[all_result_df['response'].notna()])"
   ]
  },
  {
   "cell_type": "code",
   "execution_count": null,
   "metadata": {},
   "outputs": [],
   "source": [
    "all_result_df['faithfulness'].plot()"
   ]
  },
  {
   "cell_type": "code",
   "execution_count": null,
   "metadata": {},
   "outputs": [],
   "source": [
    "import pandas as pd\n",
    "\n",
    "df = pd.read_csv('../generator_eval_v2.csv')\n",
    "df.head(2)"
   ]
  },
  {
   "cell_type": "code",
   "execution_count": null,
   "metadata": {},
   "outputs": [],
   "source": [
    "# Selecionando as colunas de interesse\n",
    "columns_of_interest = ['answer_relevancy', 'faithfulness', 'llm_response_time', 'output_tokens']\n",
    "\n",
    "# Agrupando por 'model' e calculando a média para as colunas selecionadas\n",
    "average_values = df.groupby('model')[columns_of_interest].mean().reset_index()\n",
    "\n",
    "# Exibindo a tabela resultante\n",
    "average_values"
   ]
  },
  {
   "cell_type": "code",
   "execution_count": null,
   "metadata": {},
   "outputs": [],
   "source": [
    "print(average_values.to_latex())"
   ]
  },
  {
   "cell_type": "code",
   "execution_count": null,
   "metadata": {},
   "outputs": [],
   "source": []
  }
 ],
 "metadata": {
  "kernelspec": {
   "display_name": "venv",
   "language": "python",
   "name": "python3"
  },
  "language_info": {
   "codemirror_mode": {
    "name": "ipython",
    "version": 3
   },
   "file_extension": ".py",
   "mimetype": "text/x-python",
   "name": "python",
   "nbconvert_exporter": "python",
   "pygments_lexer": "ipython3",
   "version": "3.11.10"
  }
 },
 "nbformat": 4,
 "nbformat_minor": 2
}
