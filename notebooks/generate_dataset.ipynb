{
 "cells": [
  {
   "cell_type": "code",
   "execution_count": null,
   "metadata": {},
   "outputs": [],
   "source": [
    "%pip install -qqqU PyPDF2 langchain langchain-community matplotlib pypdf langchain-qdrant pandas tqdm"
   ]
  },
  {
   "cell_type": "code",
   "execution_count": null,
   "metadata": {},
   "outputs": [],
   "source": [
    "from src.utils import load_docs_from_json\n",
    "\n",
    "documents = load_docs_from_json('regulamento-semantic.json')"
   ]
  },
  {
   "cell_type": "code",
   "execution_count": null,
   "metadata": {},
   "outputs": [],
   "source": [
    "from langchain_core.prompts import PromptTemplate\n",
    "\n",
    "prompt = \"\"\"\n",
    "A partir  o artigo de regulamento abaixo, gere 5 perguntas e respostas referentes a ela.\n",
    "\n",
    "{context}\n",
    "\n",
    "\n",
    "Exemplo de perguntas que alunos fariam:\n",
    "\n",
    "Qual o procedimento pra pedir trancamento de curso?\n",
    "O que preciso fazer para pedir pra ver o registro de frequencia?\n",
    "Até quando posso realizar matricula em TCC?\n",
    "\n",
    "Escreva as perguntas nesse formato: \n",
    "\n",
    "Q: Gostaria de saber como devo realizar o requerimento do aproveitamento de disciplinas\n",
    "A: A solicitação do aproveitamento de estudos deve ser solicitada no SIGAA pelo interessado, e pode procurar sua coordenação em caso de dúvidas. Caso sejam apenas disciplinas ELETIVAS cursadas na UFRN ou REEXAME de um processo físico arquivado no Segia, o interessado deve realizar a solicitação na Coordenadoria de Atendimento da Prograd.\n",
    "Q: Perdi o prazo final para o cadastramento na UFRN, ainda posso realizar o cadastramento?\n",
    "A: O cadastramento para candidatos convocados pela UFRN somente ocorre caso toda a Documentação seja entregue no período estipulado em Edital. Não é possível fazê-lo posteriormente ao prazo estipulado.\n",
    "Q: Com qual nota sou considerado aprovado na UFRN?\n",
    "A: Para ser considerado aprovado nos cursos de graduação da UFRN, o aluno deve ter média parcial igual ou superior a 6,0, com rendimento igual ou superior a 4,0 em todas as unidades\n",
    "\"\"\"\n",
    "\n",
    "prompt_template = PromptTemplate.from_template(prompt)"
   ]
  },
  {
   "cell_type": "code",
   "execution_count": null,
   "metadata": {},
   "outputs": [],
   "source": [
    "from langchain_aws import BedrockLLM\n",
    "\n",
    "model_id = \"meta.llama3-70b-instruct-v1:0\"\n",
    "\n",
    "custom_llm = BedrockLLM(\n",
    "    model_id=model_id,  # ARN like 'arn:aws:bedrock:...' obtained via provisioning the custom model\n",
    "    model_kwargs={\"temperature\": 0.8},\n",
    "    streaming=True,\n",
    ")"
   ]
  },
  {
   "cell_type": "code",
   "execution_count": null,
   "metadata": {},
   "outputs": [],
   "source": [
    "artigo = documents[130].page_content\n",
    "prompt = prompt_template.format(context=artigo)\n",
    "response = custom_llm.invoke(prompt)\n",
    "\n",
    "print(artigo, '\\n\\n', response)"
   ]
  },
  {
   "cell_type": "code",
   "execution_count": null,
   "metadata": {},
   "outputs": [],
   "source": [
    "import re\n",
    "import pandas as pd\n",
    "from tqdm import tqdm\n",
    "from time import sleep\n",
    "\n",
    "# Regex para capturar perguntas e respostas\n",
    "regex = r\"Q:\\s(.*?)\\nA:\\s(.*?)\\n(?=Q:|$)\"\n",
    "\n",
    "dados = {\n",
    "    \"NumeroArtigo\": [],\n",
    "    \"TextoArtigo\": [],\n",
    "    \"Pergunta\": [],\n",
    "    \"Resposta\": [],\n",
    "}\n",
    "\n",
    "for doc in tqdm(documents[50:]):\n",
    "    try:\n",
    "        prompt = prompt_template.format(context=doc.page_content)\n",
    "        response = custom_llm.invoke(prompt)\n",
    "\n",
    "        # Usando findall para capturar as perguntas e respostas\n",
    "        matches = re.findall(regex, response, re.DOTALL)\n",
    "\n",
    "        # Criando o dicionário\n",
    "        dados[\"NumeroArtigo\"] += [doc.metadata[\"Artigo\"] for _ in matches]\n",
    "        dados[\"TextoArtigo\"] += [doc.page_content for _ in matches]\n",
    "        dados[\"Pergunta\"] += [match[0].strip() for match in matches]\n",
    "        dados[\"Resposta\"] += [match[1].strip() for match in matches]\n",
    "\n",
    "        sleep(5)\n",
    "    except:\n",
    "        sleep(60)\n",
    "        "
   ]
  },
  {
   "cell_type": "code",
   "execution_count": null,
   "metadata": {},
   "outputs": [],
   "source": [
    "# Convertendo para um DataFrame\n",
    "df = pd.DataFrame(dados)\n",
    "\n",
    "df.to_csv(\"potiguana_qa_p2.csv\")\n",
    "\n",
    "# Exibindo o DataFrame\n",
    "df.head()"
   ]
  },
  {
   "cell_type": "code",
   "execution_count": null,
   "metadata": {},
   "outputs": [],
   "source": []
  }
 ],
 "metadata": {
  "kernelspec": {
   "display_name": "venv",
   "language": "python",
   "name": "python3"
  },
  "language_info": {
   "codemirror_mode": {
    "name": "ipython",
    "version": 3
   },
   "file_extension": ".py",
   "mimetype": "text/x-python",
   "name": "python",
   "nbconvert_exporter": "python",
   "pygments_lexer": "ipython3",
   "version": "3.11.10"
  }
 },
 "nbformat": 4,
 "nbformat_minor": 2
}
