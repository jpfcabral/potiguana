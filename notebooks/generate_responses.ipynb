{
 "cells": [
  {
   "cell_type": "code",
   "execution_count": null,
   "metadata": {},
   "outputs": [],
   "source": [
    "import pandas as pd\n",
    "\n",
    "df = pd.read_csv('../dataset_potiguana_final.csv')\n",
    "df.drop('reference', axis=1, inplace=True)\n",
    "df.head(2)"
   ]
  },
  {
   "cell_type": "code",
   "execution_count": null,
   "metadata": {},
   "outputs": [],
   "source": [
    "from ragas.llms import LangchainLLMWrapper\n",
    "from ragas.embeddings import LangchainEmbeddingsWrapper\n",
    "from langchain_openai import ChatOpenAI\n",
    "from langchain_openai import OpenAIEmbeddings\n",
    "llm = ChatOpenAI(model=\"gpt-4o\", temperature=0)"
   ]
  },
  {
   "cell_type": "code",
   "execution_count": null,
   "metadata": {},
   "outputs": [],
   "source": [
    "from langchain_core.prompts import PromptTemplate\n",
    "\n",
    "prompt = \"\"\"\n",
    "Você é um servidor da UFRN responsável por instruir alunos sobre questões acadêmicas do regulamento dos cursos de graduação.\n",
    "Você deve responder a resposta correta baseada na questão e contexto abaixo. Por favor, siga as instruções:\n",
    "\n",
    "1. Pergunta: {pergunta}\n",
    "\n",
    "2. Contexto: {contexto}\n",
    "\n",
    "3. Instruções:\n",
    "    - Analise cuidadosamente a questão e o contexto fornecido.\n",
    "    - Formule uma resposta abrangente e precisa baseada apenas nas informações fornecidas no contexto.\n",
    "    - Certifique-se de que sua resposta aborda diretamente a pergunta.\n",
    "    - Inclua todas as informações relevantes do contexto, mas não adicione nenhum conhecimento externo.\n",
    "    - Se o contexto não contiver informações suficientes para responder completamente à pergunta, declare isso claramente e forneça a melhor resposta parcial possível.\n",
    "    - Use um tom formal e objetivo.\n",
    "\n",
    "\"\"\"\n",
    "\n",
    "prompt_template = PromptTemplate.from_template(prompt)"
   ]
  },
  {
   "cell_type": "code",
   "execution_count": null,
   "metadata": {},
   "outputs": [],
   "source": [
    "questions = []\n",
    "for _, row in df.iterrows():\n",
    "    questions.append(row.to_dict())\n"
   ]
  },
  {
   "cell_type": "code",
   "execution_count": null,
   "metadata": {},
   "outputs": [],
   "source": [
    "from time import sleep\n",
    "\n",
    "\n",
    "response_list = []\n",
    "\n",
    "for data in questions:\n",
    "    try:\n",
    "        if not 'reference' in data.keys():\n",
    "            prompt = prompt_template.format(pergunta=data['user_input'], contexto=data['reference_contexts'])\n",
    "            response = llm.invoke(prompt)\n",
    "            print(response)\n",
    "            data['reference'] = response\n",
    "            response_list.append(data)\n",
    "    except Exception as exc:\n",
    "        print(exc)\n",
    "        sleep(2)\n",
    "\n",
    "questions = response_list"
   ]
  },
  {
   "cell_type": "code",
   "execution_count": null,
   "metadata": {},
   "outputs": [],
   "source": [
    "df_final = pd.DataFrame(questions)\n",
    "df_final.head(2)"
   ]
  },
  {
   "cell_type": "code",
   "execution_count": null,
   "metadata": {},
   "outputs": [],
   "source": [
    "df_final = df_final.reindex(['user_input', 'reference_contexts','reference', 'synthesizer_name'], axis=1)\n",
    "df_final.head(2)"
   ]
  },
  {
   "cell_type": "code",
   "execution_count": null,
   "metadata": {},
   "outputs": [],
   "source": [
    "df_final.to_csv('../dataset_potiguana.csv', index=False)"
   ]
  },
  {
   "cell_type": "code",
   "execution_count": null,
   "metadata": {},
   "outputs": [],
   "source": []
  }
 ],
 "metadata": {
  "kernelspec": {
   "display_name": "venv",
   "language": "python",
   "name": "python3"
  },
  "language_info": {
   "codemirror_mode": {
    "name": "ipython",
    "version": 3
   },
   "file_extension": ".py",
   "mimetype": "text/x-python",
   "name": "python",
   "nbconvert_exporter": "python",
   "pygments_lexer": "ipython3",
   "version": "3.10.15"
  }
 },
 "nbformat": 4,
 "nbformat_minor": 2
}
