{
 "cells": [
  {
   "cell_type": "code",
   "execution_count": null,
   "metadata": {},
   "outputs": [],
   "source": [
    "%pip install -qU semantic-router"
   ]
  },
  {
   "cell_type": "code",
   "execution_count": null,
   "metadata": {},
   "outputs": [],
   "source": [
    "from dotenv import  load_dotenv\n",
    "\n",
    "load_dotenv('../.env')"
   ]
  },
  {
   "cell_type": "code",
   "execution_count": null,
   "metadata": {},
   "outputs": [],
   "source": [
    "from langchain_qdrant import QdrantVectorStore\n",
    "from langchain.utils import get_from_env\n",
    "from qdrant_client import QdrantClient\n",
    "from langchain_aws.embeddings import BedrockEmbeddings\n",
    "import os\n",
    "\n",
    "class SemanticRouter:\n",
    "    def __init__(\n",
    "        self, \n",
    "        qdrant_host: str = os.environ[\"VECTOR_STORE_URL\"],\n",
    "        api_key: str = os.environ[\"VECTOR_STORE_API_KEY\"],\n",
    "        collection_name: str =\"utterances\"\n",
    "        ):\n",
    "        self.qdrant_client = QdrantClient(url=qdrant_host, api_key=api_key)\n",
    "        self.embedding = BedrockEmbeddings()\n",
    "\n",
    "        self.collection_name = collection_name\n",
    "\n",
    "        self.vector_store = QdrantVectorStore(client=self.qdrant_client, collection_name=self.collection_name, embedding=self.embedding)\n",
    "\n",
    "    def add_utterance(self, utterance, route):\n",
    "        \"\"\"Add an utterance and its associated route to the Qdrant collection.\"\"\"\n",
    "        self.vector_store.add_texts(texts=[utterance], metadatas=[{\"route\": route, \"uterrance\": utterance}])\n",
    "\n",
    "    def get_route_details(self, query, k: int = 10):\n",
    "        \"\"\"Retrieve routes, utterances, and scores for a given query without filtering by threshold.\"\"\"\n",
    "        results = self.vector_store.similarity_search_with_relevance_scores(query=query, k=k)\n",
    "        detailed_results = [(res.metadata[\"route\"], res.metadata[\"uterrance\"], score) for res, score in results]\n",
    "        return detailed_results\n",
    "\n",
    "    def get_route(self, query, threshold: float = 0.8, k: int = 10):\n",
    "        \"\"\"Retrieve the most relevant route for a given query based on the highest score exceeding the threshold.\"\"\"\n",
    "        detailed_results = self.get_route_details(query=query, k=k)\n",
    "\n",
    "        # Filter results based on threshold\n",
    "        filtered_results = [(route, utterance, score) for route, utterance, score in detailed_results if score >= threshold]\n",
    "\n",
    "        if not filtered_results:\n",
    "            return None\n",
    "\n",
    "        # Find the route with the highest score\n",
    "        best_result = max(filtered_results, key=lambda x: x[2])\n",
    "        return best_result[0]  # Return the route of the best result\n"
   ]
  },
  {
   "cell_type": "code",
   "execution_count": null,
   "metadata": {},
   "outputs": [],
   "source": [
    "router = SemanticRouter()\n",
    "router.get_route(\"olá\")"
   ]
  },
  {
   "cell_type": "code",
   "execution_count": null,
   "metadata": {},
   "outputs": [],
   "source": []
  }
 ],
 "metadata": {
  "kernelspec": {
   "display_name": "venv",
   "language": "python",
   "name": "python3"
  },
  "language_info": {
   "codemirror_mode": {
    "name": "ipython",
    "version": 3
   },
   "file_extension": ".py",
   "mimetype": "text/x-python",
   "name": "python",
   "nbconvert_exporter": "python",
   "pygments_lexer": "ipython3",
   "version": "3.10.15"
  }
 },
 "nbformat": 4,
 "nbformat_minor": 2
}
