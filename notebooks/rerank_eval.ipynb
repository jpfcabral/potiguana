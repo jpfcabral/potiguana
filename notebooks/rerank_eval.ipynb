{
 "cells": [
  {
   "cell_type": "code",
   "execution_count": null,
   "metadata": {},
   "outputs": [],
   "source": [
    "%pip install -qqqU matplotlib"
   ]
  },
  {
   "cell_type": "code",
   "execution_count": null,
   "metadata": {},
   "outputs": [],
   "source": [
    "from dotenv import load_dotenv\n",
    "\n",
    "load_dotenv('../.env')"
   ]
  },
  {
   "cell_type": "code",
   "execution_count": null,
   "metadata": {},
   "outputs": [],
   "source": [
    "from langchain_qdrant import QdrantVectorStore\n",
    "from qdrant_client import QdrantClient\n",
    "from langchain_aws import BedrockEmbeddings, ChatBedrock\n",
    "from qdrant_client.http.models import Distance, VectorParams\n",
    "from langchain_core.rate_limiters import InMemoryRateLimiter"
   ]
  },
  {
   "cell_type": "code",
   "execution_count": null,
   "metadata": {},
   "outputs": [],
   "source": [
    "embeddings = BedrockEmbeddings()"
   ]
  },
  {
   "cell_type": "code",
   "execution_count": null,
   "metadata": {},
   "outputs": [],
   "source": [
    "import os\n",
    "\n",
    "client = QdrantClient(\n",
    "    location=os.environ[\"VECTOR_STORE_URL\"],\n",
    "    api_key=os.environ[\"VECTOR_STORE_API_KEY\"]\n",
    ")\n",
    "\n",
    "vector_store = QdrantVectorStore(\n",
    "    client=client,\n",
    "    collection_name=\"regulamento-semantic\",\n",
    "    embedding=embeddings\n",
    ")"
   ]
  },
  {
   "cell_type": "code",
   "execution_count": null,
   "metadata": {},
   "outputs": [],
   "source": [
    "from datasets import Dataset\n",
    "\n",
    "def pandas_to_ragas(df):\n",
    "    '''\n",
    "    Converts a Pandas DataFrame into a Ragas-compatible dataset\n",
    "    \n",
    "    Inputs:\n",
    "        - df (Pandas DataFrame): The input DataFrame to be converted\n",
    "        \n",
    "    Returns:\n",
    "        - ragas_testset (Hugging Face Dataset): A Hugging Face dataset compatible with the Ragas framework\n",
    "    '''\n",
    "    # Ensure all text columns are strings and handle NaN values\n",
    "    text_columns = df.columns\n",
    "    for col in text_columns:\n",
    "        df[col] = df[col].fillna('').astype(str)\n",
    "        \n",
    "    # Convert 'contexts' to a list of lists\n",
    "    df['reference_contexts'] = df['reference_contexts'].fillna('').astype(str).apply(eval)\n",
    "    df['retrieved_contexts'] = df['retrieved_contexts'].fillna('').astype(str).apply(eval)\n",
    "    \n",
    "    # Converting the DataFrame to a dictionary\n",
    "    data_dict = df.to_dict('list')\n",
    "    \n",
    "    # Loading the dictionary as a Hugging Face dataset\n",
    "    ragas_testset = Dataset.from_dict(data_dict)\n",
    "    \n",
    "    return ragas_testset"
   ]
  },
  {
   "cell_type": "code",
   "execution_count": null,
   "metadata": {},
   "outputs": [],
   "source": [
    "import pandas as pd\n",
    "from tqdm import tqdm\n",
    "from ragas import evaluate\n",
    "from ragas.metrics import NonLLMContextRecall, NonLLMContextPrecisionWithReference\n",
    "from rerank import BedrockRerank\n",
    "\n",
    "models = [\n",
    "    'amazon.rerank-v1:0',\n",
    "    'cohere.rerank-v3-5:0',\n",
    "    ]\n",
    "\n",
    "all_result_df = pd.read_csv(\"../rerank_models_in_k_eval.csv\")\n",
    "\n",
    "for model_name in models:\n",
    "    for k in [60, 70, 80, 90, 100]:\n",
    "        df = pd.read_csv('../data/dataset_potiguana.csv')\n",
    "\n",
    "        retrieved_contexts = []\n",
    "        responses = []\n",
    "\n",
    "        for _, row in tqdm(df.iterrows()):\n",
    "            query = row['user_input']\n",
    "            context_docs = vector_store.similarity_search(query, k=k)\n",
    "            contexts = [c.page_content for c in context_docs]\n",
    "\n",
    "            # Rerank\n",
    "            reranker = BedrockRerank()\n",
    "            reranked_contexts = reranker.rerank(query=query, documents=contexts, top_k=k, model=model_name)\n",
    "\n",
    "            retrieved_contexts.append(reranked_contexts)\n",
    "\n",
    "        df['retrieved_contexts'] = pd.Series(retrieved_contexts)\n",
    "        eval_dataset = pandas_to_ragas(df)\n",
    "\n",
    "        metrics = [\n",
    "            NonLLMContextPrecisionWithReference(threshold=0.95),\n",
    "            NonLLMContextRecall(threshold=0.95)\n",
    "            ]\n",
    "\n",
    "\n",
    "        results = evaluate(dataset=eval_dataset, metrics=metrics)\n",
    "        result_df = results.to_pandas()\n",
    "        result_df['k'] = k\n",
    "        result_df['model'] = model_name\n",
    "        all_result_df = pd.concat([all_result_df, result_df], ignore_index=True)\n",
    "\n",
    "all_result_df.to_csv('../rerank_models_in_k_eval.csv')"
   ]
  },
  {
   "cell_type": "code",
   "execution_count": null,
   "metadata": {},
   "outputs": [],
   "source": [
    "import pandas as pd\n",
    "import matplotlib.pyplot as plt\n",
    "\n",
    "# Carregar os resultados consolidados\n",
    "all_result_df = pd.read_csv(\"../rerank_models_in_k_eval.csv\")\n",
    "all_result_df = all_result_df[all_result_df['non_llm_context_recall'] == 1.0]\n",
    "\n",
    "# Criar um único gráfico com subplots para cada modelo\n",
    "def plot_metrics_with_subplots():\n",
    "    models = all_result_df['model'].unique()\n",
    "    num_models = len(models)\n",
    "    \n",
    "    # Configurar o espaço para os subplots\n",
    "    fig, axes = plt.subplots(1, num_models, figsize=(16, 6), sharey=True)\n",
    "    \n",
    "    for i, model_name in enumerate(models):\n",
    "        model_data = all_result_df[all_result_df['model'] == model_name]\n",
    "        \n",
    "        # Calcular médias por grupo de k\n",
    "        mean_recall = model_data.groupby('k')['non_llm_context_recall'].mean()\n",
    "        mean_precision = model_data.groupby('k')['non_llm_context_precision_with_reference'].mean()\n",
    "        \n",
    "        # Plotar as métricas no subplot correspondente\n",
    "        # axes[i].plot(mean_recall.index, mean_recall.values, marker='o', linestyle='-', color='blue', label='Context Recall')\n",
    "        axes[i].plot(mean_precision.index, mean_precision.values, marker='s', linestyle='--', color='green', label='Context Precision')\n",
    "        \n",
    "        # Configurações do subplot\n",
    "        axes[i].set_title(f'{model_name} - Metrics vs. K', fontsize=14)\n",
    "        axes[i].set_xlabel('K', fontsize=12)\n",
    "        if i == 0:  # Adicionar rótulo ao eixo Y apenas no primeiro subplot\n",
    "            axes[i].set_ylabel('Score', fontsize=12)\n",
    "        axes[i].grid(True)\n",
    "        axes[i].legend(fontsize=10)\n",
    "    \n",
    "    # Ajustar layout geral\n",
    "    plt.tight_layout()\n",
    "    plt.show()\n",
    "\n",
    "# Gerar os subplots\n",
    "plot_metrics_with_subplots()\n"
   ]
  },
  {
   "cell_type": "code",
   "execution_count": null,
   "metadata": {},
   "outputs": [],
   "source": []
  }
 ],
 "metadata": {
  "kernelspec": {
   "display_name": "venv",
   "language": "python",
   "name": "python3"
  },
  "language_info": {
   "codemirror_mode": {
    "name": "ipython",
    "version": 3
   },
   "file_extension": ".py",
   "mimetype": "text/x-python",
   "name": "python",
   "nbconvert_exporter": "python",
   "pygments_lexer": "ipython3",
   "version": "3.11.10"
  }
 },
 "nbformat": 4,
 "nbformat_minor": 2
}
