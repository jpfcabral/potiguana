{
 "cells": [
  {
   "cell_type": "code",
   "execution_count": null,
   "metadata": {},
   "outputs": [],
   "source": [
    "%pip install -qqqU matplotlib"
   ]
  },
  {
   "cell_type": "code",
   "execution_count": null,
   "metadata": {},
   "outputs": [],
   "source": [
    "from dotenv import load_dotenv\n",
    "\n",
    "load_dotenv('../.env')"
   ]
  },
  {
   "cell_type": "code",
   "execution_count": null,
   "metadata": {},
   "outputs": [],
   "source": [
    "from langchain_qdrant import QdrantVectorStore\n",
    "from qdrant_client import QdrantClient\n",
    "from langchain_aws import BedrockEmbeddings, ChatBedrock\n",
    "from qdrant_client.http.models import Distance, VectorParams\n",
    "from langchain_core.rate_limiters import InMemoryRateLimiter"
   ]
  },
  {
   "cell_type": "code",
   "execution_count": null,
   "metadata": {},
   "outputs": [],
   "source": [
    "embeddings = BedrockEmbeddings()"
   ]
  },
  {
   "cell_type": "code",
   "execution_count": null,
   "metadata": {},
   "outputs": [],
   "source": [
    "import os\n",
    "\n",
    "client = QdrantClient(\n",
    "    location=os.environ[\"VECTOR_STORE_URL\"],\n",
    "    api_key=os.environ[\"VECTOR_STORE_API_KEY\"]\n",
    ")\n",
    "\n",
    "vector_store = QdrantVectorStore(\n",
    "    client=client,\n",
    "    collection_name=\"regulamento-semantic\",\n",
    "    embedding=embeddings\n",
    ")"
   ]
  },
  {
   "cell_type": "code",
   "execution_count": null,
   "metadata": {},
   "outputs": [],
   "source": [
    "from datasets import Dataset\n",
    "\n",
    "def pandas_to_ragas(df):\n",
    "    '''\n",
    "    Converts a Pandas DataFrame into a Ragas-compatible dataset\n",
    "    \n",
    "    Inputs:\n",
    "        - df (Pandas DataFrame): The input DataFrame to be converted\n",
    "        \n",
    "    Returns:\n",
    "        - ragas_testset (Hugging Face Dataset): A Hugging Face dataset compatible with the Ragas framework\n",
    "    '''\n",
    "    # Ensure all text columns are strings and handle NaN values\n",
    "    text_columns = df.columns\n",
    "    for col in text_columns:\n",
    "        df[col] = df[col].fillna('').astype(str)\n",
    "        \n",
    "    # Convert 'contexts' to a list of lists\n",
    "    df['reference_contexts'] = df['reference_contexts'].fillna('').astype(str).apply(eval)\n",
    "    df['retrieved_contexts'] = df['retrieved_contexts'].fillna('').astype(str).apply(eval)\n",
    "    \n",
    "    # Converting the DataFrame to a dictionary\n",
    "    data_dict = df.to_dict('list')\n",
    "    \n",
    "    # Loading the dictionary as a Hugging Face dataset\n",
    "    ragas_testset = Dataset.from_dict(data_dict)\n",
    "    \n",
    "    return ragas_testset"
   ]
  },
  {
   "cell_type": "code",
   "execution_count": null,
   "metadata": {},
   "outputs": [],
   "source": [
    "import pandas as pd\n",
    "from tqdm import tqdm\n",
    "from ragas import evaluate\n",
    "from ragas.metrics import NonLLMContextRecall, NonLLMContextPrecisionWithReference\n",
    "\n",
    "ks = []\n",
    "recalls =  []\n",
    "all_result_df = pd.DataFrame([])\n",
    "\n",
    "for k in [2, 10, 20, 30, 40, 50, 60, 70, 80, 90, 100]:\n",
    "\n",
    "    df = pd.read_csv('../data/dataset_potiguana.csv')\n",
    "\n",
    "    retrieved_contexts = []\n",
    "    responses = []\n",
    "\n",
    "    for _, row in tqdm(df.iterrows()):\n",
    "        query = row['user_input']\n",
    "        context_docs = vector_store.similarity_search(query, k=k)\n",
    "        contexts = [c.page_content for c in context_docs]\n",
    "        retrieved_contexts.append(contexts)\n",
    "\n",
    "    df['retrieved_contexts'] = pd.Series(retrieved_contexts)\n",
    "    eval_dataset = pandas_to_ragas(df)\n",
    "\n",
    "    metrics = [\n",
    "        NonLLMContextPrecisionWithReference(threshold=0.95),\n",
    "        NonLLMContextRecall(threshold=0.95)\n",
    "        ]\n",
    "\n",
    "\n",
    "    results = evaluate(dataset=eval_dataset, metrics=metrics)\n",
    "    result_df = results.to_pandas()\n",
    "    result_df['k'] = k\n",
    "    all_result_df = pd.concat([all_result_df, result_df], ignore_index=True)\n",
    "\n",
    "    non_llm_context_recall = result_df['non_llm_context_recall'].mean()\n",
    "\n",
    "    ks.append(k)\n",
    "    recalls.append(non_llm_context_recall)"
   ]
  },
  {
   "cell_type": "code",
   "execution_count": null,
   "metadata": {},
   "outputs": [],
   "source": [
    "import matplotlib.pyplot as plt\n",
    "\n",
    "# Calcule a média de NonLLMContextRecall para cada valor de K\n",
    "mean_recall = all_result_df.groupby('k')['non_llm_context_recall'].mean()\n",
    "mean_precision = all_result_df.groupby('k')['non_llm_context_precision_with_reference'].mean()\n",
    "\n",
    "\n",
    "plt.figure(figsize=(10, 6))\n",
    "plt.plot(mean_recall.index, mean_recall.values, marker='o', linestyle='-', color='b', label='Mean Context Recall')\n",
    "plt.plot(mean_precision.index, mean_precision.values, marker='s', linestyle='--', color='r', label='Mean Context Precision')\n",
    "plt.title('Mean Context Recall and Precision vs. K', fontsize=16)\n",
    "plt.xlabel('K', fontsize=14)\n",
    "plt.ylabel('Mean Score', fontsize=14)\n",
    "plt.grid(True)\n",
    "plt.legend(fontsize=12)\n",
    "\n",
    "plt.xticks(mean_recall.index)  # Mostra todos os valores de K no eixo x\n",
    "plt.show()"
   ]
  },
  {
   "cell_type": "code",
   "execution_count": null,
   "metadata": {},
   "outputs": [],
   "source": []
  }
 ],
 "metadata": {
  "kernelspec": {
   "display_name": "venv",
   "language": "python",
   "name": "python3"
  },
  "language_info": {
   "codemirror_mode": {
    "name": "ipython",
    "version": 3
   },
   "file_extension": ".py",
   "mimetype": "text/x-python",
   "name": "python",
   "nbconvert_exporter": "python",
   "pygments_lexer": "ipython3",
   "version": "3.11.10"
  }
 },
 "nbformat": 4,
 "nbformat_minor": 2
}
