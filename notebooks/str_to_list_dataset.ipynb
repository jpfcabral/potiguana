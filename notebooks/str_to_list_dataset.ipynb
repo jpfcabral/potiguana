{
 "cells": [
  {
   "cell_type": "code",
   "execution_count": null,
   "metadata": {},
   "outputs": [],
   "source": [
    "import pandas as pd\n",
    "\n",
    "df = pd.read_csv('../dataset_intermediario.csv')\n",
    "df.head(2)"
   ]
  },
  {
   "cell_type": "code",
   "execution_count": null,
   "metadata": {},
   "outputs": [],
   "source": [
    "def preprocess_column(df, column_name):\n",
    "    # Ensure the column exists in the DataFrame\n",
    "    if column_name not in df.columns:\n",
    "        raise ValueError(f\"Column '{column_name}' not found in DataFrame.\")\n",
    "\n",
    "    # Apply the preprocessing steps to the column\n",
    "    df[column_name] = (\n",
    "        df[column_name]\n",
    "        # .astype(str)  # Ensure all data is treated as strings\n",
    "        .str.replace(\"\\n\", \" \", regex=False)  # Replace line breaks with a space\n",
    "        .str.strip()  # Strip leading and trailing spaces\n",
    "        .str.split(\"|\")  # Split by the pipe '|'\n",
    "    )\n",
    "\n",
    "    return df\n",
    "\n",
    "processed_df = preprocess_column(df, 'reference_contexts')\n",
    "processed_df.head(2)\n"
   ]
  },
  {
   "cell_type": "code",
   "execution_count": null,
   "metadata": {},
   "outputs": [],
   "source": [
    "import pandas as pd\n",
    "\n",
    "\n",
    "def remove_prefix(df, column_name, prefix):\n",
    "    # Ensure the column exists in the DataFrame\n",
    "    if column_name not in df.columns:\n",
    "        raise ValueError(f\"Column '{column_name}' not found in DataFrame.\")\n",
    "\n",
    "    # Remove the prefix from each cell in the column\n",
    "    df[column_name] = (df[column_name]\n",
    "                       .astype(str)\n",
    "                       .str.removeprefix(prefix)\n",
    "                       .replace('\\n', '', regex=False)\n",
    "                       )\n",
    "\n",
    "    return df\n",
    "\n",
    "processed_df = remove_prefix(processed_df, 'reference', 'Resposta:')\n",
    "processed_df.head(2)"
   ]
  },
  {
   "cell_type": "code",
   "execution_count": null,
   "metadata": {},
   "outputs": [],
   "source": [
    "processed_df.to_csv('../dataset_potiguana_final.csv')"
   ]
  },
  {
   "cell_type": "code",
   "execution_count": null,
   "metadata": {},
   "outputs": [],
   "source": []
  }
 ],
 "metadata": {
  "kernelspec": {
   "display_name": "venv",
   "language": "python",
   "name": "python3"
  },
  "language_info": {
   "codemirror_mode": {
    "name": "ipython",
    "version": 3
   },
   "file_extension": ".py",
   "mimetype": "text/x-python",
   "name": "python",
   "nbconvert_exporter": "python",
   "pygments_lexer": "ipython3",
   "version": "3.11.10"
  }
 },
 "nbformat": 4,
 "nbformat_minor": 2
}
