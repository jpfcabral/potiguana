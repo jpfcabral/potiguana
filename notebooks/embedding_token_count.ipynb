{
 "cells": [
  {
   "cell_type": "code",
   "execution_count": null,
   "metadata": {},
   "outputs": [],
   "source": [
    "from dotenv import  load_dotenv\n",
    "\n",
    "load_dotenv('../.env')"
   ]
  },
  {
   "cell_type": "code",
   "execution_count": null,
   "metadata": {},
   "outputs": [],
   "source": [
    "import json\n",
    "from langchain.schema import Document\n",
    "def load_documents(json_path: str = './data/regulamento-semantic.json'):\n",
    "    documents = []\n",
    "    \n",
    "    # Abrindo e lendo o arquivo JSON\n",
    "    with open(json_path, 'r', encoding='utf-8') as file:\n",
    "        for line in file:\n",
    "            data = json.loads(line.strip())\n",
    "            \n",
    "            # Criando o documento LangChain\n",
    "            doc = Document(\n",
    "                page_content=data.get(\"page_content\", \"\"),\n",
    "                metadata=data.get(\"metadata\", {})\n",
    "            )\n",
    "            documents.append(doc)\n",
    "    \n",
    "    return documents\n",
    "\n",
    "docs = load_documents()"
   ]
  },
  {
   "cell_type": "code",
   "execution_count": null,
   "metadata": {},
   "outputs": [],
   "source": [
    "from langchain_aws import BedrockEmbeddings\n",
    "embeddings = BedrockEmbeddings()"
   ]
  },
  {
   "cell_type": "code",
   "execution_count": null,
   "metadata": {},
   "outputs": [],
   "source": [
    "# Função para calcular tokens usando o modelo de embeddings\n",
    "def calculate_tokens(doc):\n",
    "    # Obter a contagem de tokens do modelo de embeddings\n",
    "    return len(embeddings.())\n",
    "\n",
    "# Criar uma lista para armazenar os resultados\n",
    "results = []\n",
    "\n",
    "for i, doc in enumerate(docs):\n",
    "    token_count = calculate_tokens(doc)\n",
    "    results.append({\"document_id\": i + 1, \"content\": doc, \"token_count\": token_count})\n",
    "\n",
    "# Gerar um DataFrame com os resultados\n",
    "df = pd.DataFrame(results)\n",
    "\n",
    "# Exibir o DataFrame\n",
    "print(df)"
   ]
  }
 ],
 "metadata": {
  "kernelspec": {
   "display_name": "venv",
   "language": "python",
   "name": "python3"
  },
  "language_info": {
   "codemirror_mode": {
    "name": "ipython",
    "version": 3
   },
   "file_extension": ".py",
   "mimetype": "text/x-python",
   "name": "python",
   "nbconvert_exporter": "python",
   "pygments_lexer": "ipython3",
   "version": "3.10.15"
  }
 },
 "nbformat": 4,
 "nbformat_minor": 2
}
